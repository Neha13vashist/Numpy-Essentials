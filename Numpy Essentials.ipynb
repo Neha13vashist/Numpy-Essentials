{
 "cells": [
  {
   "cell_type": "markdown",
   "id": "0807f22c",
   "metadata": {},
   "source": [
    "### Introduction to Numpy\n",
    "Numpy is a powerful library for numerical computing in Python. It provides support for large, multi-dimensional arrays and matrices, along with a collection of mathematical functions to operate on these arrays efficiently.\n",
    "\n",
    "##### Installing and Importing Numpy\n",
    "To use Numpy, you first need to install it if you haven't already. You can do this using pip:"
   ]
  },
  {
   "cell_type": "code",
   "execution_count": 1,
   "id": "c1c05ea8",
   "metadata": {},
   "outputs": [
    {
     "name": "stdout",
     "output_type": "stream",
     "text": [
      "Requirement already satisfied: numpy in c:\\users\\nevashist\\appdata\\local\\anaconda3\\lib\\site-packages (1.23.5)\n"
     ]
    }
   ],
   "source": [
    "!pip install numpy"
   ]
  },
  {
   "cell_type": "markdown",
   "id": "a0615e0d",
   "metadata": {},
   "source": [
    "After installation, you can import Numpy in your Python code as follows:"
   ]
  },
  {
   "cell_type": "code",
   "execution_count": 3,
   "id": "d877ff77",
   "metadata": {},
   "outputs": [],
   "source": [
    "import numpy as np"
   ]
  },
  {
   "cell_type": "markdown",
   "id": "e38c5b51",
   "metadata": {},
   "source": [
    "##### Use Case\n",
    "Before we dive into the details, let's briefly discuss a use case where Numpy shines. Consider you have a list of numbers and you want to perform some operations on them. Let's see how Numpy simplifies this compared to using Python lists."
   ]
  },
  {
   "cell_type": "code",
   "execution_count": 4,
   "id": "1978b184",
   "metadata": {},
   "outputs": [],
   "source": [
    "# Using Python Lists\n",
    "numbers = [1, 2, 3, 4, 5]\n",
    "squared = [x**2 for x in numbers]\n",
    "sum_squared = sum(squared)\n",
    "\n",
    "# Using Numpy\n",
    "import numpy as np\n",
    "numbers_np = np.array(numbers)\n",
    "squared_np = numbers_np**2\n",
    "sum_squared_np = np.sum(squared_np)"
   ]
  },
  {
   "cell_type": "markdown",
   "id": "13ef2f31",
   "metadata": {},
   "source": [
    "In this example, Numpy allows you to perform element-wise operations on arrays, making your code concise and efficient.\n",
    "\n",
    "### Motivation: Why to use Numpy? - How is it different from Python Lists?\n",
    "Python lists are flexible but may not be optimized for numerical operations. Numpy arrays offer several advantages:\n",
    "\n",
    "- **Performance**: Numpy operations are faster than Python lists, especially for large datasets.\n",
    "- **Concise Code**: Numpy enables concise and readable code for mathematical operations.\n",
    "- **Multidimensional Arrays**: Numpy supports multi-dimensional arrays, which are essential for tasks like image processing and machine learning."
   ]
  },
  {
   "cell_type": "code",
   "execution_count": 5,
   "id": "229aaa80",
   "metadata": {},
   "outputs": [
    {
     "name": "stdout",
     "output_type": "stream",
     "text": [
      "Time taken for Python List: 24.204637699993327 seconds\n",
      "Time taken for Numpy Array: 0.05883340002037585 seconds\n"
     ]
    }
   ],
   "source": [
    "import timeit\n",
    "# Using Python Lists\n",
    "python_list = list(range(1, 10001))\n",
    "python_square_time = timeit.timeit(lambda: [x**2 for x in python_list], number=10000)\n",
    "\n",
    "# Using Numpy\n",
    "numpy_array = np.arange(1, 10001)\n",
    "numpy_square_time = timeit.timeit(lambda: numpy_array**2, number=10000)\n",
    "\n",
    "print(f\"Time taken for Python List: {python_square_time} seconds\")\n",
    "print(f\"Time taken for Numpy Array: {numpy_square_time} seconds\")\n"
   ]
  },
  {
   "cell_type": "markdown",
   "id": "a9e5960e",
   "metadata": {},
   "source": [
    "### Basics of Numpy Arrays\n",
    "Numpy arrays are the core data structure for numerical computations in Numpy. They are homogeneous, meaning all elements are of the same data type, which allows for efficient mathematical operations.\n",
    "\n",
    "**Creating a Basic Numpy Array**\n",
    "1. From a List - array(), shape, ndim"
   ]
  },
  {
   "cell_type": "code",
   "execution_count": 7,
   "id": "4b2faa57",
   "metadata": {},
   "outputs": [
    {
     "name": "stdout",
     "output_type": "stream",
     "text": [
      "Shape of the array: (5,)\n",
      "Number of dimensions: 1\n"
     ]
    }
   ],
   "source": [
    "# Create a Numpy array from a Python list\n",
    "my_list = [1, 2, 3, 4, 5]\n",
    "my_array = np.array(my_list)\n",
    "\n",
    "# Check the shape and dimensions of the array\n",
    "print(\"Shape of the array:\", my_array.shape)\n",
    "print(\"Number of dimensions:\", my_array.ndim)\n"
   ]
  },
  {
   "cell_type": "markdown",
   "id": "5ab8c135",
   "metadata": {},
   "source": [
    "2. From a range and step size - arange()"
   ]
  },
  {
   "cell_type": "code",
   "execution_count": 8,
   "id": "52101508",
   "metadata": {},
   "outputs": [
    {
     "name": "stdout",
     "output_type": "stream",
     "text": [
      "[0 2 4 6 8]\n"
     ]
    }
   ],
   "source": [
    "import numpy as np\n",
    "\n",
    "# Create an array from 0 to 9 with a step of 2\n",
    "my_range_array = np.arange(0, 10, 2)\n",
    "print(my_range_array)\n"
   ]
  },
  {
   "cell_type": "code",
   "execution_count": 9,
   "id": "f94a4cd9",
   "metadata": {},
   "outputs": [
    {
     "name": "stdout",
     "output_type": "stream",
     "text": [
      "<class 'numpy.ndarray'>\n"
     ]
    }
   ],
   "source": [
    "my_array = np.array([1, 2, 3])\n",
    "print(type(my_array))"
   ]
  },
  {
   "cell_type": "markdown",
   "id": "9379925c",
   "metadata": {},
   "source": [
    "#### Why Numpy Computes Faster?\n",
    "Numpy's speed can be attributed to three key factors:\n",
    "\n",
    "- **Dense Memory Packing**: Numpy arrays are homogenous, meaning they have a consistent data type. This allows Numpy to store data densely in memory, reducing memory overhead and improving access times.\n",
    "\n",
    "- **Parallel Processing**: Numpy can divide computational tasks into multiple subtasks and process them in parallel, taking full advantage of multi-core processors. This parallelism significantly speeds up computations.\n",
    "\n",
    "- **C Implementation**: Numpy's core functions are implemented in C, a low-level language known for its speed. When you perform operations on Numpy arrays, the underlying C code is executed, making Numpy much faster than equivalent Python lists."
   ]
  },
  {
   "cell_type": "markdown",
   "id": "d2cf8c92",
   "metadata": {},
   "source": [
    "#### Why C Arrays are Faster?\n",
    "C arrays get the speed advantage over Python lists mainly because of these cool things:\n",
    "\n",
    "- **All in the Same Gang**: In C, arrays store buddies of the same data type together. They're like a well-organized club where everyone has the same drink. This makes it super easy to handle them because they all fit into the same-sized memory slots.\n",
    "\n",
    "- **Memory Mates**: C arrays keep all their stuff in one place, like putting all your books on a single bookshelf. When you need something, you just grab it from that one spot. Python lists, though, they keep a list of where things are (like bookmarks), and when you want something, you first look up where it's stored and then fetch it. A bit like checking an index in a library before you can read a book.\n",
    "\n",
    "- **Direct Access**: With C arrays, if you want something, you just go straight to it using an index. No need for middlemen or extra steps. Python lists, on the other hand, make you go through a couple of hoops before you get what you want.\n",
    "\n",
    "**But here's the twist**: Numpy, which is like C's trendy cousin, can do all of this while still letting you mix and match different types of data. Unlike C arrays, Numpy arrays keep the flexibility to hold different things while being lightning-fast with contiguous data. It's like having the best of both worlds!"
   ]
  },
  {
   "cell_type": "markdown",
   "id": "1e75632c",
   "metadata": {},
   "source": [
    "### 1D Arrays and Indexing\n",
    "Numpy makes it easy to work with 1D arrays efficiently, allowing you to access and manipulate data with ease.\n",
    "\n",
    "#### Indexing and Slicing on 1D Arrays\n",
    "**Indexing**\n",
    "\n",
    "You can access elements in a 1D Numpy array using indexing, just like you would with Python lists:"
   ]
  },
  {
   "cell_type": "code",
   "execution_count": 10,
   "id": "4abb06c2",
   "metadata": {},
   "outputs": [],
   "source": [
    "# Create a 1D Numpy array\n",
    "my_array = np.array([10, 20, 30, 40, 50])\n",
    "\n",
    "# Access elements using indices\n",
    "element = my_array[2]  # Access the third element (30)"
   ]
  },
  {
   "cell_type": "code",
   "execution_count": 11,
   "id": "bab40117",
   "metadata": {},
   "outputs": [
    {
     "data": {
      "text/plain": [
       "30"
      ]
     },
     "execution_count": 11,
     "metadata": {},
     "output_type": "execute_result"
    }
   ],
   "source": [
    "element"
   ]
  },
  {
   "cell_type": "markdown",
   "id": "a98f4bcd",
   "metadata": {},
   "source": [
    "#### Slicing\n",
    "Slicing allows you to extract a portion of a 1D array. It's like cutting a cake into smaller pieces:"
   ]
  },
  {
   "cell_type": "code",
   "execution_count": 12,
   "id": "c920dbd5",
   "metadata": {},
   "outputs": [],
   "source": [
    "# Create a 1D Numpy array\n",
    "my_array = np.array([10, 20, 30, 40, 50])\n",
    "\n",
    "# Slice the array to get a subset\n",
    "subset = my_array[1:4]  # Get elements from index 1 to 3 (20, 30, 40)\n"
   ]
  },
  {
   "cell_type": "code",
   "execution_count": 13,
   "id": "ec5e79d3",
   "metadata": {},
   "outputs": [
    {
     "data": {
      "text/plain": [
       "array([20, 30, 40])"
      ]
     },
     "execution_count": 13,
     "metadata": {},
     "output_type": "execute_result"
    }
   ],
   "source": [
    "subset"
   ]
  },
  {
   "cell_type": "markdown",
   "id": "96272dad",
   "metadata": {},
   "source": [
    "#### Masking (Fancy Indexing)\n",
    "You can also use a mask, which is a boolean array, to select specific elements based on a condition:"
   ]
  },
  {
   "cell_type": "code",
   "execution_count": 14,
   "id": "f148ccf1",
   "metadata": {},
   "outputs": [],
   "source": [
    "# Create a 1D Numpy array\n",
    "my_array = np.array([10, 20, 30, 40, 50])\n",
    "\n",
    "# Create a mask for values greater than 30\n",
    "mask = my_array > 30\n",
    "\n",
    "# Use the mask to select elements\n",
    "selected_elements = my_array[mask]  # Get elements greater than 30 (40, 50)\n"
   ]
  },
  {
   "cell_type": "code",
   "execution_count": 16,
   "id": "174822eb",
   "metadata": {},
   "outputs": [
    {
     "data": {
      "text/plain": [
       "array([False, False, False,  True,  True])"
      ]
     },
     "execution_count": 16,
     "metadata": {},
     "output_type": "execute_result"
    }
   ],
   "source": [
    "mask"
   ]
  },
  {
   "cell_type": "code",
   "execution_count": 17,
   "id": "c89305d8",
   "metadata": {},
   "outputs": [
    {
     "data": {
      "text/plain": [
       "array([40, 50])"
      ]
     },
     "execution_count": 17,
     "metadata": {},
     "output_type": "execute_result"
    }
   ],
   "source": [
    "selected_elements"
   ]
  },
  {
   "cell_type": "markdown",
   "id": "80f562de",
   "metadata": {},
   "source": [
    "### Operations on 1D Arrays\n",
    "Numpy provides a wide range of operations that you can perform on 1D arrays efficiently.\n",
    "\n",
    "#### Universal Functions (ufunc) on 1D Array\n",
    "Universal functions, or ufuncs, are functions that operate element-wise on Numpy arrays. They make it easy to perform mathematical operations on entire arrays."
   ]
  },
  {
   "cell_type": "code",
   "execution_count": 18,
   "id": "c41e7eb7",
   "metadata": {},
   "outputs": [],
   "source": [
    "# Create a 1D Numpy array\n",
    "my_array = np.array([1, 2, 3, 4, 5])\n",
    "\n",
    "# Add 2 to each element\n",
    "result = my_array + 2  # [3, 4, 5, 6, 7]\n"
   ]
  },
  {
   "cell_type": "code",
   "execution_count": 19,
   "id": "bea6b21e",
   "metadata": {},
   "outputs": [
    {
     "data": {
      "text/plain": [
       "array([3, 4, 5, 6, 7])"
      ]
     },
     "execution_count": 19,
     "metadata": {},
     "output_type": "execute_result"
    }
   ],
   "source": [
    "result"
   ]
  },
  {
   "cell_type": "markdown",
   "id": "c519e2fe",
   "metadata": {},
   "source": [
    "#### Aggregate Function/Reduction functions\n",
    "Numpy provides functions for aggregating data in arrays, such as finding the sum, mean, minimum, and maximum:"
   ]
  },
  {
   "cell_type": "code",
   "execution_count": 20,
   "id": "939631a7",
   "metadata": {},
   "outputs": [],
   "source": [
    "# Create a 1D Numpy array\n",
    "my_array = np.array([1, 2, 3, 4, 5])\n",
    "\n",
    "# Calculate the sum, mean, minimum, and maximum\n",
    "total = np.sum(my_array)\n",
    "average = np.mean(my_array)\n",
    "minimum = np.min(my_array)\n",
    "maximum = np.max(my_array)\n"
   ]
  },
  {
   "cell_type": "code",
   "execution_count": 21,
   "id": "4b1a5ab5",
   "metadata": {},
   "outputs": [
    {
     "data": {
      "text/plain": [
       "15"
      ]
     },
     "execution_count": 21,
     "metadata": {},
     "output_type": "execute_result"
    }
   ],
   "source": [
    "total"
   ]
  },
  {
   "cell_type": "code",
   "execution_count": 22,
   "id": "ee0c9400",
   "metadata": {},
   "outputs": [
    {
     "data": {
      "text/plain": [
       "3.0"
      ]
     },
     "execution_count": 22,
     "metadata": {},
     "output_type": "execute_result"
    }
   ],
   "source": [
    "average"
   ]
  },
  {
   "cell_type": "code",
   "execution_count": 23,
   "id": "e8445887",
   "metadata": {},
   "outputs": [
    {
     "data": {
      "text/plain": [
       "1"
      ]
     },
     "execution_count": 23,
     "metadata": {},
     "output_type": "execute_result"
    }
   ],
   "source": [
    "minimum"
   ]
  },
  {
   "cell_type": "code",
   "execution_count": 24,
   "id": "e9eff744",
   "metadata": {},
   "outputs": [
    {
     "data": {
      "text/plain": [
       "5"
      ]
     },
     "execution_count": 24,
     "metadata": {},
     "output_type": "execute_result"
    }
   ],
   "source": [
    "maximum"
   ]
  },
  {
   "cell_type": "markdown",
   "id": "7fddbb3b",
   "metadata": {},
   "source": [
    "#### Use Case: Daily Steps Tracking\n",
    "Imagine you're tracking the number of steps you take each day as part of a fitness routine. You can use a 1D Numpy array to manage and analyze this data."
   ]
  },
  {
   "cell_type": "code",
   "execution_count": 25,
   "id": "1f39cae9",
   "metadata": {},
   "outputs": [
    {
     "name": "stdout",
     "output_type": "stream",
     "text": [
      "Total steps taken for the week: 63500\n",
      "Average daily steps: 9071.42857142857\n",
      "Day with the highest number of steps: 5\n",
      "Number of days you reached your step goal: 2\n"
     ]
    }
   ],
   "source": [
    "# Daily steps taken for a week\n",
    "steps = np.array([8000, 9500, 10000, 8500, 11000, 7500, 9000])\n",
    "\n",
    "# Calculate the total steps for the week\n",
    "total_steps = np.sum(steps)\n",
    "print(\"Total steps taken for the week:\", total_steps)\n",
    "\n",
    "# Calculate the average daily steps\n",
    "average_daily_steps = np.mean(steps)\n",
    "print(\"Average daily steps:\", average_daily_steps)\n",
    "\n",
    "# Find the day with the highest number of steps\n",
    "max_steps_day = np.argmax(steps) + 1  # Adding 1 to account for 0-based indexing\n",
    "print(\"Day with the highest number of steps:\", max_steps_day)\n",
    "\n",
    "# Determine how many days you reached your daily step goal (e.g., 10,000 steps)\n",
    "goal = 10000\n",
    "days_met_goal = np.sum(steps >= goal)\n",
    "print(\"Number of days you reached your step goal:\", days_met_goal)\n"
   ]
  },
  {
   "cell_type": "markdown",
   "id": "793a6741",
   "metadata": {},
   "source": [
    "In the previous code, we used several Numpy functions to analyze the daily steps tracking data:\n",
    "\n",
    "#### `np.sum()`\n",
    "\n",
    "The `np.sum()` function is used to calculate the total sum of elements in a Numpy array. In this case, it helped us find the total number of steps taken for the week.\n",
    "\n",
    "#### `np.mean()`\n",
    "\n",
    "The `np.mean()` function calculates the average of elements in a Numpy array. We used it to determine the average daily steps taken.\n",
    "\n",
    "#### `np.argmax()`\n",
    "\n",
    "With `np.argmax()`, we found the index of the maximum value in the Numpy array, indicating the day with the highest number of steps. We added 1 to account for 0-based indexing.\n",
    "\n",
    "#### `np.sum()` (Again)\n",
    "\n",
    "We employed `np.sum()` once more, this time with a condition (`steps >= goal`), to count the number of days where you reached your daily step goal of 10,000 steps.\n",
    "\n",
    "These Numpy functions make it easy to perform data analysis and calculations efficiently on 1D arrays. They are valuable tools for tasks involving numerical data, such as fitness tracking and beyond.\n"
   ]
  },
  {
   "cell_type": "markdown",
   "id": "b4a84421",
   "metadata": {},
   "source": [
    "### Reshaping and 2D Arrays\n",
    "\n",
    "Reshaping is like changing the way you arrange things to make them more manageable. In Numpy, we use this trick to turn a 1D array into a 2D one, which can be super handy.\n"
   ]
  },
  {
   "cell_type": "code",
   "execution_count": 1,
   "id": "a6f23b4f",
   "metadata": {},
   "outputs": [],
   "source": [
    "import numpy as np\n",
    "\n",
    "# Imagine you have a list of numbers\n",
    "my_list = [1, 2, 3, 4, 5, 6]\n",
    "\n",
    "# Let's convert it into a 2D array, like arranging them in rows and columns\n",
    "reshaped_array = np.array(my_list).reshape(2, 3)\n",
    "\n",
    "# Now you can easily pick any number from this 'grid' using row and column numbers\n",
    "element = reshaped_array[1, 2]  # The second row, third column has our number\n",
    "\n",
    "# You can reshape data to prepare it for specific tasks or analysis"
   ]
  },
  {
   "cell_type": "code",
   "execution_count": 3,
   "id": "052aeb08",
   "metadata": {},
   "outputs": [
    {
     "data": {
      "text/plain": [
       "array([[1, 2, 3],\n",
       "       [4, 5, 6]])"
      ]
     },
     "execution_count": 3,
     "metadata": {},
     "output_type": "execute_result"
    }
   ],
   "source": [
    "reshaped_array"
   ]
  },
  {
   "cell_type": "code",
   "execution_count": 5,
   "id": "8baa3b6f",
   "metadata": {},
   "outputs": [
    {
     "data": {
      "text/plain": [
       "6"
      ]
     },
     "execution_count": 5,
     "metadata": {},
     "output_type": "execute_result"
    }
   ],
   "source": [
    "element"
   ]
  },
  {
   "cell_type": "markdown",
   "id": "f58e1069",
   "metadata": {},
   "source": [
    "### 2D Arrays and Indexing\n",
    "\n",
    "Working with 2D arrays opens up a world of possibilities for organizing and analyzing data. In this section, we'll delve into the concept of 2D arrays and learn how to index and slice them effectively."
   ]
  },
  {
   "cell_type": "code",
   "execution_count": 6,
   "id": "aa426117",
   "metadata": {},
   "outputs": [],
   "source": [
    "# Create a 2D Numpy array\n",
    "my_2d_array = np.array([[1, 2, 3], [4, 5, 6], [7, 8, 9]])\n",
    "\n",
    "# Access elements in the 2D array using row and column indices\n",
    "element = my_2d_array[1, 2]  # Access the element in the second row, third column\n"
   ]
  },
  {
   "cell_type": "code",
   "execution_count": 7,
   "id": "99013ff3",
   "metadata": {},
   "outputs": [
    {
     "data": {
      "text/plain": [
       "array([[1, 2, 3],\n",
       "       [4, 5, 6],\n",
       "       [7, 8, 9]])"
      ]
     },
     "execution_count": 7,
     "metadata": {},
     "output_type": "execute_result"
    }
   ],
   "source": [
    "my_2d_array"
   ]
  },
  {
   "cell_type": "code",
   "execution_count": 8,
   "id": "6817f179",
   "metadata": {},
   "outputs": [
    {
     "data": {
      "text/plain": [
       "6"
      ]
     },
     "execution_count": 8,
     "metadata": {},
     "output_type": "execute_result"
    }
   ],
   "source": [
    "element"
   ]
  },
  {
   "cell_type": "markdown",
   "id": "2398c3ce",
   "metadata": {},
   "source": [
    "### Operations on 2D Arrays\n",
    "Numpy provides a wide range of operations that you can perform on 2D arrays efficiently.\n",
    "\n",
    "Now that we're comfortable with 2D arrays, let's dive into the exciting world of operations you can perform on them. From arithmetic operations to aggregating data, Numpy has got you covered."
   ]
  },
  {
   "cell_type": "code",
   "execution_count": 9,
   "id": "8ffa1121",
   "metadata": {},
   "outputs": [],
   "source": [
    "# Create a 2D Numpy array\n",
    "my_2d_array = np.array([[1, 2, 3], [4, 5, 6], [7, 8, 9]])\n",
    "\n",
    "# Add 5 to all elements\n",
    "result = my_2d_array + 5\n",
    "\n",
    "# Calculate the sum of all elements\n",
    "total_sum = np.sum(my_2d_array)\n",
    "\n",
    "# Find the minimum and maximum values\n",
    "min_value = np.min(my_2d_array)\n",
    "max_value = np.max(my_2d_array)\n"
   ]
  },
  {
   "cell_type": "code",
   "execution_count": 10,
   "id": "8bab918f",
   "metadata": {},
   "outputs": [
    {
     "data": {
      "text/plain": [
       "array([[1, 2, 3],\n",
       "       [4, 5, 6],\n",
       "       [7, 8, 9]])"
      ]
     },
     "execution_count": 10,
     "metadata": {},
     "output_type": "execute_result"
    }
   ],
   "source": [
    "my_2d_array"
   ]
  },
  {
   "cell_type": "code",
   "execution_count": 11,
   "id": "31b5fb5e",
   "metadata": {},
   "outputs": [
    {
     "data": {
      "text/plain": [
       "array([[ 6,  7,  8],\n",
       "       [ 9, 10, 11],\n",
       "       [12, 13, 14]])"
      ]
     },
     "execution_count": 11,
     "metadata": {},
     "output_type": "execute_result"
    }
   ],
   "source": [
    "result"
   ]
  },
  {
   "cell_type": "code",
   "execution_count": 12,
   "id": "e85166fa",
   "metadata": {},
   "outputs": [
    {
     "data": {
      "text/plain": [
       "45"
      ]
     },
     "execution_count": 12,
     "metadata": {},
     "output_type": "execute_result"
    }
   ],
   "source": [
    "total_sum"
   ]
  },
  {
   "cell_type": "code",
   "execution_count": 13,
   "id": "b8f279ba",
   "metadata": {},
   "outputs": [
    {
     "data": {
      "text/plain": [
       "1"
      ]
     },
     "execution_count": 13,
     "metadata": {},
     "output_type": "execute_result"
    }
   ],
   "source": [
    "min_value"
   ]
  },
  {
   "cell_type": "code",
   "execution_count": 14,
   "id": "f8c874e0",
   "metadata": {},
   "outputs": [
    {
     "data": {
      "text/plain": [
       "9"
      ]
     },
     "execution_count": 14,
     "metadata": {},
     "output_type": "execute_result"
    }
   ],
   "source": [
    "max_value"
   ]
  },
  {
   "cell_type": "markdown",
   "id": "6088fe50",
   "metadata": {},
   "source": [
    "### Slicing"
   ]
  },
  {
   "cell_type": "code",
   "execution_count": 15,
   "id": "112c78c8",
   "metadata": {},
   "outputs": [],
   "source": [
    "# Create a 2D Numpy array\n",
    "my_2d_array = np.array([[1, 2, 3], [4, 5, 6], [7, 8, 9]])\n",
    "\n",
    "# Access a single element using row and column indices\n",
    "element = my_2d_array[1, 2]  # Access the element in the second row, third column\n",
    "\n",
    "# Slice rows and columns to extract subsets of the array\n",
    "row_slice = my_2d_array[0:2, :]  # Slice the first two rows\n",
    "column_slice = my_2d_array[:, 1]  # Slice the second column\n"
   ]
  },
  {
   "cell_type": "code",
   "execution_count": 16,
   "id": "7ac09573",
   "metadata": {},
   "outputs": [
    {
     "data": {
      "text/plain": [
       "array([[1, 2, 3],\n",
       "       [4, 5, 6],\n",
       "       [7, 8, 9]])"
      ]
     },
     "execution_count": 16,
     "metadata": {},
     "output_type": "execute_result"
    }
   ],
   "source": [
    "my_2d_array"
   ]
  },
  {
   "cell_type": "code",
   "execution_count": 17,
   "id": "06c9db59",
   "metadata": {},
   "outputs": [
    {
     "data": {
      "text/plain": [
       "6"
      ]
     },
     "execution_count": 17,
     "metadata": {},
     "output_type": "execute_result"
    }
   ],
   "source": [
    "element"
   ]
  },
  {
   "cell_type": "code",
   "execution_count": 18,
   "id": "8799245f",
   "metadata": {},
   "outputs": [
    {
     "data": {
      "text/plain": [
       "array([[1, 2, 3],\n",
       "       [4, 5, 6]])"
      ]
     },
     "execution_count": 18,
     "metadata": {},
     "output_type": "execute_result"
    }
   ],
   "source": [
    "row_slice"
   ]
  },
  {
   "cell_type": "code",
   "execution_count": 19,
   "id": "de614e29",
   "metadata": {},
   "outputs": [
    {
     "data": {
      "text/plain": [
       "array([2, 5, 8])"
      ]
     },
     "execution_count": 19,
     "metadata": {},
     "output_type": "execute_result"
    }
   ],
   "source": [
    "column_slice"
   ]
  },
  {
   "cell_type": "markdown",
   "id": "1a6213e6",
   "metadata": {},
   "source": [
    "### Why Do We Need the 'Axis' Parameter?\n",
    "\n",
    "**Question**: Imagine you have a 2D array filled with numbers, like a grid of data. Now, let's say you want to do something special, like finding the sum of numbers in each row or the mean of numbers in each column. How can you tell your computer to do this?"
   ]
  },
  {
   "cell_type": "code",
   "execution_count": 20,
   "id": "1ce59a00",
   "metadata": {},
   "outputs": [],
   "source": [
    "# Create a 2D Numpy array\n",
    "my_2d_array = np.array([[1, 2, 3], [4, 5, 6], [7, 8, 9]])\n",
    "\n",
    "# Calculate the sum along rows (axis=1)\n",
    "row_sum = np.sum(my_2d_array, axis=1)\n",
    "\n",
    "# Calculate the mean along columns (axis=0)\n",
    "column_mean = np.mean(my_2d_array, axis=0)\n"
   ]
  },
  {
   "cell_type": "code",
   "execution_count": 21,
   "id": "7dbf3304",
   "metadata": {},
   "outputs": [
    {
     "data": {
      "text/plain": [
       "array([ 6, 15, 24])"
      ]
     },
     "execution_count": 21,
     "metadata": {},
     "output_type": "execute_result"
    }
   ],
   "source": [
    "row_sum"
   ]
  },
  {
   "cell_type": "code",
   "execution_count": 22,
   "id": "8879728f",
   "metadata": {},
   "outputs": [
    {
     "data": {
      "text/plain": [
       "array([4., 5., 6.])"
      ]
     },
     "execution_count": 22,
     "metadata": {},
     "output_type": "execute_result"
    }
   ],
   "source": [
    "column_mean"
   ]
  },
  {
   "cell_type": "markdown",
   "id": "ba4b15f3",
   "metadata": {},
   "source": [
    "When we work with 2D arrays, the 'axis' parameter helps us specify whether we want to perform operations along rows or columns. It's like giving directions to our computer on which way to go.\n",
    "\n",
    "- **axis=1** means we want to move along rows, so we calculate the sum of numbers in each row.\n",
    "- **axis=0** means we want to move along columns, so we calculate the mean of numbers in each column.\n",
    "\n",
    "By using the 'axis' parameter, we can tell our computer exactly what we want to do with our 2D data, making it a powerful tool for data analysis and manipulation."
   ]
  },
  {
   "cell_type": "markdown",
   "id": "62881d01",
   "metadata": {},
   "source": [
    "### Logical Operations on 2D Arrays"
   ]
  },
  {
   "cell_type": "markdown",
   "id": "df7eb427",
   "metadata": {},
   "source": [
    "#### np.where()\n",
    "**Explanation**: np.where() is a powerful function that helps you find the indices of elements in an array that satisfy a given condition. It returns the indices where the condition is met.\n",
    "\n",
    "**Use Case**: It's commonly used to filter or locate specific elements or values within an array. For example, you can use it to find all values in an array greater than a certain threshold, identify outliers, or replace values based on conditions."
   ]
  },
  {
   "cell_type": "code",
   "execution_count": 23,
   "id": "e40daf7a",
   "metadata": {},
   "outputs": [],
   "source": [
    "# Create a Numpy array\n",
    "my_array = np.array([1, 2, 3, 4, 5])\n",
    "\n",
    "# Find indices where values are greater than 3\n",
    "indices = np.where(my_array > 3)\n"
   ]
  },
  {
   "cell_type": "code",
   "execution_count": 24,
   "id": "df454ed7",
   "metadata": {},
   "outputs": [
    {
     "data": {
      "text/plain": [
       "(array([3, 4], dtype=int64),)"
      ]
     },
     "execution_count": 24,
     "metadata": {},
     "output_type": "execute_result"
    }
   ],
   "source": [
    "indices"
   ]
  },
  {
   "cell_type": "markdown",
   "id": "3e0d424b",
   "metadata": {},
   "source": [
    "##### np.any()\n",
    "**Explanation**: np.any() checks if any element in the array satisfies a given condition. It returns a boolean value (True or False).\n",
    "\n",
    "**Use Case**: It's useful when you want to determine if at least one element in an array meets a certain condition. For instance, you can use it to check if there's any missing data in a dataset."
   ]
  },
  {
   "cell_type": "code",
   "execution_count": 25,
   "id": "976cef95",
   "metadata": {},
   "outputs": [],
   "source": [
    "# Create a Numpy array\n",
    "my_array = np.array([1, 2, 3, 4, 5])\n",
    "\n",
    "# Check if any value is greater than 3\n",
    "has_value_greater_than_3 = np.any(my_array > 3)\n"
   ]
  },
  {
   "cell_type": "code",
   "execution_count": 26,
   "id": "0139a7b3",
   "metadata": {},
   "outputs": [
    {
     "data": {
      "text/plain": [
       "True"
      ]
     },
     "execution_count": 26,
     "metadata": {},
     "output_type": "execute_result"
    }
   ],
   "source": [
    "has_value_greater_than_3"
   ]
  },
  {
   "cell_type": "markdown",
   "id": "9d8f4d1d",
   "metadata": {},
   "source": [
    "##### np.all()\n",
    "**Explanation**: np.all() checks if all elements in the array satisfy a given condition. It returns a boolean value (True or False).\n",
    "\n",
    "**Use Case**: It's valuable when you want to ensure that all elements in an array meet a specific condition. For example, you can use it to verify if all students in a class passed a particular exam."
   ]
  },
  {
   "cell_type": "code",
   "execution_count": 27,
   "id": "71d2a002",
   "metadata": {},
   "outputs": [],
   "source": [
    "# Create a Numpy array\n",
    "exam_scores = np.array([80, 85, 88, 90, 92])\n",
    "\n",
    "# Check if all scores are greater than or equal to 80\n",
    "all_scores_above_80 = np.all(exam_scores >= 80)\n"
   ]
  },
  {
   "cell_type": "code",
   "execution_count": 28,
   "id": "60966385",
   "metadata": {},
   "outputs": [
    {
     "data": {
      "text/plain": [
       "True"
      ]
     },
     "execution_count": 28,
     "metadata": {},
     "output_type": "execute_result"
    }
   ],
   "source": [
    "all_scores_above_80"
   ]
  },
  {
   "cell_type": "markdown",
   "id": "760c0b36",
   "metadata": {},
   "source": [
    "### Sorting and Aggregating Data in 2D Arrays"
   ]
  },
  {
   "cell_type": "code",
   "execution_count": 29,
   "id": "0cba5906",
   "metadata": {},
   "outputs": [],
   "source": [
    "# Create a 2D Numpy array representing exam scores\n",
    "exam_scores = np.array([[80, 75, 90], [65, 92, 88], [78, 82, 87]])\n",
    "\n",
    "# Sort the data along rows (axis=1)\n",
    "sorted_scores = np.sort(exam_scores, axis=1)\n",
    "\n",
    "# Calculate the mean score for each student (axis=1)\n",
    "student_mean_scores = np.mean(exam_scores, axis=1)\n",
    "\n",
    "# Calculate the maximum score in each exam (axis=0)\n",
    "max_scores = np.max(exam_scores, axis=0)\n"
   ]
  },
  {
   "cell_type": "code",
   "execution_count": 30,
   "id": "2fc6988a",
   "metadata": {},
   "outputs": [
    {
     "data": {
      "text/plain": [
       "array([[80, 75, 90],\n",
       "       [65, 92, 88],\n",
       "       [78, 82, 87]])"
      ]
     },
     "execution_count": 30,
     "metadata": {},
     "output_type": "execute_result"
    }
   ],
   "source": [
    "exam_scores"
   ]
  },
  {
   "cell_type": "code",
   "execution_count": 31,
   "id": "277d31d9",
   "metadata": {},
   "outputs": [
    {
     "data": {
      "text/plain": [
       "array([[75, 80, 90],\n",
       "       [65, 88, 92],\n",
       "       [78, 82, 87]])"
      ]
     },
     "execution_count": 31,
     "metadata": {},
     "output_type": "execute_result"
    }
   ],
   "source": [
    "sorted_scores"
   ]
  },
  {
   "cell_type": "code",
   "execution_count": 32,
   "id": "9e82304f",
   "metadata": {},
   "outputs": [
    {
     "data": {
      "text/plain": [
       "array([81.66666667, 81.66666667, 82.33333333])"
      ]
     },
     "execution_count": 32,
     "metadata": {},
     "output_type": "execute_result"
    }
   ],
   "source": [
    "student_mean_scores"
   ]
  },
  {
   "cell_type": "code",
   "execution_count": 33,
   "id": "60c43fd9",
   "metadata": {},
   "outputs": [
    {
     "data": {
      "text/plain": [
       "array([80, 92, 90])"
      ]
     },
     "execution_count": 33,
     "metadata": {},
     "output_type": "execute_result"
    }
   ],
   "source": [
    "max_scores"
   ]
  },
  {
   "cell_type": "markdown",
   "id": "981914b7",
   "metadata": {},
   "source": [
    "### Splitting and Merging Arrays in Numpy"
   ]
  },
  {
   "cell_type": "markdown",
   "id": "30d416bb",
   "metadata": {},
   "source": [
    "#### hsplit and vsplit\n",
    "**Explanation**: Think of hsplit as cutting a 2D array into horizontal strips and vsplit as cutting it into vertical strips. These functions allow you to split your data along rows or columns.\n",
    "\n",
    "**Use Cases**:\n",
    "\n",
    "- hsplit: Useful for splitting data along columns. For instance, separating feature columns from target columns.\n",
    "- vsplit: Handy for dividing data along rows. It can be used to split a dataset into training and testing sets."
   ]
  },
  {
   "cell_type": "code",
   "execution_count": 35,
   "id": "87cb9fc0",
   "metadata": {},
   "outputs": [],
   "source": [
    "# Create a 2D Numpy array\n",
    "data = np.array([[1, 2, 3],\n",
    "                 [4, 5, 6],\n",
    "                 [7, 8, 9]])\n",
    "\n",
    "# Split into two horizontal parts (rows)\n",
    "horizontal_split = np.hsplit(data, [1,2])\n",
    "\n",
    "# Split into two vertical parts (columns)\n",
    "vertical_split = np.vsplit(data, 3)\n"
   ]
  },
  {
   "cell_type": "code",
   "execution_count": 36,
   "id": "dce0d243",
   "metadata": {},
   "outputs": [
    {
     "data": {
      "text/plain": [
       "[array([[1],\n",
       "        [4],\n",
       "        [7]]),\n",
       " array([[2],\n",
       "        [5],\n",
       "        [8]]),\n",
       " array([[3],\n",
       "        [6],\n",
       "        [9]])]"
      ]
     },
     "execution_count": 36,
     "metadata": {},
     "output_type": "execute_result"
    }
   ],
   "source": [
    "horizontal_split"
   ]
  },
  {
   "cell_type": "code",
   "execution_count": 37,
   "id": "29e7862b",
   "metadata": {},
   "outputs": [
    {
     "data": {
      "text/plain": [
       "[array([[1, 2, 3]]), array([[4, 5, 6]]), array([[7, 8, 9]])]"
      ]
     },
     "execution_count": 37,
     "metadata": {},
     "output_type": "execute_result"
    }
   ],
   "source": [
    "vertical_split"
   ]
  },
  {
   "cell_type": "markdown",
   "id": "c66e72ee",
   "metadata": {},
   "source": [
    "#### hstack and vstack\n",
    "**Explanation**: Think of hstack as placing two arrays side by side, and vstack as stacking them on top of each other. These functions allow you to combine arrays horizontally or vertically.\n",
    "\n",
    "**Use Cases**:\n",
    "\n",
    "- hstack: Useful when you have feature vectors as separate arrays and want to create a combined feature matrix.\n",
    "- vstack: Valuable for appending new data or rows to an existing dataset."
   ]
  },
  {
   "cell_type": "code",
   "execution_count": 38,
   "id": "c1ef5362",
   "metadata": {},
   "outputs": [],
   "source": [
    "# Create two Numpy arrays\n",
    "array1 = np.array([1, 2, 3])\n",
    "array2 = np.array([4, 5, 6])\n",
    "\n",
    "# Merge horizontally (side by side)\n",
    "horizontal_merge = np.hstack((array1, array2))\n",
    "\n",
    "# Merge vertically (stack on top of each other)\n",
    "vertical_merge = np.vstack((array1, array2))\n"
   ]
  },
  {
   "cell_type": "code",
   "execution_count": 39,
   "id": "c58322cb",
   "metadata": {},
   "outputs": [
    {
     "data": {
      "text/plain": [
       "array([1, 2, 3, 4, 5, 6])"
      ]
     },
     "execution_count": 39,
     "metadata": {},
     "output_type": "execute_result"
    }
   ],
   "source": [
    "horizontal_merge"
   ]
  },
  {
   "cell_type": "code",
   "execution_count": 40,
   "id": "c786804b",
   "metadata": {},
   "outputs": [
    {
     "data": {
      "text/plain": [
       "array([[1, 2, 3],\n",
       "       [4, 5, 6]])"
      ]
     },
     "execution_count": 40,
     "metadata": {},
     "output_type": "execute_result"
    }
   ],
   "source": [
    "vertical_merge"
   ]
  },
  {
   "cell_type": "markdown",
   "id": "264b7814",
   "metadata": {},
   "source": [
    "### Broadcasting and Dimension Manipulation in Numpy"
   ]
  },
  {
   "cell_type": "markdown",
   "id": "94f9b1d7",
   "metadata": {},
   "source": [
    "Broadcasting is a unique feature in Numpy that enables you to perform operations on arrays with different shapes. It automatically expands smaller arrays to match the shape of larger ones, making element-wise operations possible even when their shapes don't exactly match."
   ]
  },
  {
   "cell_type": "code",
   "execution_count": 41,
   "id": "d38628c1",
   "metadata": {},
   "outputs": [],
   "source": [
    "# Create a Numpy array and a scalar\n",
    "my_array = np.array([1, 2, 3])\n",
    "scalar = 5\n",
    "\n",
    "# Broadcasting: Add the scalar to the array\n",
    "result = my_array + scalar\n"
   ]
  },
  {
   "cell_type": "code",
   "execution_count": 42,
   "id": "0f07a1bd",
   "metadata": {},
   "outputs": [
    {
     "data": {
      "text/plain": [
       "array([6, 7, 8])"
      ]
     },
     "execution_count": 42,
     "metadata": {},
     "output_type": "execute_result"
    }
   ],
   "source": [
    "result"
   ]
  },
  {
   "cell_type": "markdown",
   "id": "dc6cd54a",
   "metadata": {},
   "source": [
    "In this example, we have a Numpy array my_array and a scalar 5. Even though their shapes don't match, broadcasting allows us to add the scalar to each element of the array, resulting in array([6, 7, 8])."
   ]
  },
  {
   "cell_type": "code",
   "execution_count": 43,
   "id": "43402e12",
   "metadata": {},
   "outputs": [],
   "source": [
    "# Create a 2D Numpy array and a 1D array\n",
    "matrix = np.array([[1, 2, 3], [4, 5, 6]])\n",
    "row = np.array([10, 20, 30])\n",
    "\n",
    "# Broadcasting: Add the 1D array to each row of the 2D array\n",
    "result = matrix + row"
   ]
  },
  {
   "cell_type": "markdown",
   "id": "a4cbddcd",
   "metadata": {},
   "source": [
    "In this example, we have a 2D array matrix and a 1D array row. Broadcasting allows us to add the 1D array to each row of the 2D array"
   ]
  },
  {
   "cell_type": "code",
   "execution_count": 44,
   "id": "a53ff80e",
   "metadata": {},
   "outputs": [
    {
     "data": {
      "text/plain": [
       "array([[11, 22, 33],\n",
       "       [14, 25, 36]])"
      ]
     },
     "execution_count": 44,
     "metadata": {},
     "output_type": "execute_result"
    }
   ],
   "source": [
    "result"
   ]
  },
  {
   "cell_type": "code",
   "execution_count": 45,
   "id": "b41d572e",
   "metadata": {},
   "outputs": [],
   "source": [
    "# Create a 2D Numpy array and a 1D array\n",
    "matrix = np.array([[1, 2, 3], [4, 5, 6]])\n",
    "column = np.array([[10], [20]])\n",
    "\n",
    "# Broadcasting: Add the 1D array as a column to the 2D array\n",
    "result = matrix + column"
   ]
  },
  {
   "cell_type": "code",
   "execution_count": 46,
   "id": "73820ec2",
   "metadata": {},
   "outputs": [
    {
     "data": {
      "text/plain": [
       "array([[11, 12, 13],\n",
       "       [24, 25, 26]])"
      ]
     },
     "execution_count": 46,
     "metadata": {},
     "output_type": "execute_result"
    }
   ],
   "source": [
    "result"
   ]
  },
  {
   "cell_type": "markdown",
   "id": "2838685b",
   "metadata": {},
   "source": [
    "#### Simplified Rules for Broadcasting \n",
    "###### Shapes Must Match or Have One Dimension Equal to 1:\n",
    "\n",
    "When performing operations with arrays, their shapes must either match or have one dimension equal to 1 for compatibility.\n",
    "###### Element-Wise Comparison:\n",
    "\n",
    "Broadcasting works by comparing and operating on corresponding elements of the arrays, element by element.\n",
    "###### Result Adopts the Shape of the Largest Array:\n",
    "\n",
    "The resulting array will have the shape of the largest input array."
   ]
  },
  {
   "cell_type": "markdown",
   "id": "ccef2025",
   "metadata": {},
   "source": [
    "### Shallow Copy vs. Deep Copy in Numpy"
   ]
  },
  {
   "cell_type": "code",
   "execution_count": 47,
   "id": "f6a719be",
   "metadata": {},
   "outputs": [],
   "source": [
    "# Create a Numpy array\n",
    "original_array = np.array([1, 2, 3])\n",
    "\n",
    "# Make a shallow copy\n",
    "shallow_copy = original_array.view()\n",
    "\n",
    "# Modify an element in the original array\n",
    "original_array[0] = 99\n",
    "\n",
    "# Check if the change is reflected in the shallow copy\n",
    "is_reflected = (shallow_copy[0] == 99)\n"
   ]
  },
  {
   "cell_type": "code",
   "execution_count": 48,
   "id": "be2008d1",
   "metadata": {},
   "outputs": [
    {
     "data": {
      "text/plain": [
       "array([99,  2,  3])"
      ]
     },
     "execution_count": 48,
     "metadata": {},
     "output_type": "execute_result"
    }
   ],
   "source": [
    "original_array"
   ]
  },
  {
   "cell_type": "code",
   "execution_count": 49,
   "id": "0c89dcd9",
   "metadata": {},
   "outputs": [
    {
     "data": {
      "text/plain": [
       "array([99,  2,  3])"
      ]
     },
     "execution_count": 49,
     "metadata": {},
     "output_type": "execute_result"
    }
   ],
   "source": [
    "shallow_copy"
   ]
  },
  {
   "cell_type": "code",
   "execution_count": 50,
   "id": "06e46079",
   "metadata": {},
   "outputs": [
    {
     "data": {
      "text/plain": [
       "array([99,  2,  3])"
      ]
     },
     "execution_count": 50,
     "metadata": {},
     "output_type": "execute_result"
    }
   ],
   "source": [
    "original_array"
   ]
  },
  {
   "cell_type": "code",
   "execution_count": 51,
   "id": "e02896ae",
   "metadata": {},
   "outputs": [
    {
     "data": {
      "text/plain": [
       "True"
      ]
     },
     "execution_count": 51,
     "metadata": {},
     "output_type": "execute_result"
    }
   ],
   "source": [
    "is_reflected"
   ]
  },
  {
   "cell_type": "code",
   "execution_count": 52,
   "id": "20966077",
   "metadata": {},
   "outputs": [],
   "source": [
    "# Create another Numpy array\n",
    "original_array = np.array([4, 5, 6])\n",
    "\n",
    "# Make a deep copy\n",
    "deep_copy = original_array.copy()\n",
    "\n",
    "# Modify an element in the original array\n",
    "original_array[0] = 44\n",
    "\n",
    "# Check if the change is reflected in the deep copy\n",
    "is_reflected = (deep_copy[0] == 44)\n"
   ]
  },
  {
   "cell_type": "code",
   "execution_count": 53,
   "id": "b79f1e83",
   "metadata": {},
   "outputs": [
    {
     "data": {
      "text/plain": [
       "array([44,  5,  6])"
      ]
     },
     "execution_count": 53,
     "metadata": {},
     "output_type": "execute_result"
    }
   ],
   "source": [
    "original_array"
   ]
  },
  {
   "cell_type": "code",
   "execution_count": 54,
   "id": "fa1daed1",
   "metadata": {},
   "outputs": [
    {
     "data": {
      "text/plain": [
       "array([4, 5, 6])"
      ]
     },
     "execution_count": 54,
     "metadata": {},
     "output_type": "execute_result"
    }
   ],
   "source": [
    "deep_copy"
   ]
  },
  {
   "cell_type": "code",
   "execution_count": 55,
   "id": "3194d318",
   "metadata": {},
   "outputs": [
    {
     "data": {
      "text/plain": [
       "array([44,  5,  6])"
      ]
     },
     "execution_count": 55,
     "metadata": {},
     "output_type": "execute_result"
    }
   ],
   "source": [
    "original_array"
   ]
  },
  {
   "cell_type": "code",
   "execution_count": 56,
   "id": "f6dd6c05",
   "metadata": {},
   "outputs": [
    {
     "data": {
      "text/plain": [
       "array([4, 5, 6])"
      ]
     },
     "execution_count": 56,
     "metadata": {},
     "output_type": "execute_result"
    }
   ],
   "source": [
    "deep_copy"
   ]
  },
  {
   "cell_type": "markdown",
   "id": "98093b32",
   "metadata": {},
   "source": [
    "#### Sales Data Analysis with Numpy\n",
    "\n",
    "In this code snippet, we perform data analysis on sample sales data using the Numpy library in Python. The dataset consists of information such as the date of the transaction, customer ID, product ID, quantity sold, and total revenue.\n",
    "\n",
    "##### Generating Sample Data\n",
    "\n",
    "We start by generating sample sales data using Numpy's `np.array` function. Each row in the array represents a sales transaction, with columns for various data points. To handle mixed data types (such as strings and numbers), we specify the data type as 'object' using `dtype=object`.\n",
    "\n",
    "##### Data Analysis\n",
    "\n",
    "1. **Calculating Total Revenue**:\n",
    "   We calculate the total revenue by summing the 'Total Revenue' column. To ensure numerical operations, we convert this column to the 'float' data type.\n",
    "\n",
    "2. **Finding the Best-Selling Product**:\n",
    "   We determine the best-selling product by identifying the row with the highest quantity sold. This involves converting the 'Quantity' column to the 'int' data type for numerical comparison.\n",
    "\n",
    "3. **Identifying the Highest Sales Day**:\n",
    "   We identify the day with the highest total revenue by locating the row with the maximum total revenue. Similar to total revenue, we convert the 'Total Revenue' column to 'float' for accurate comparison.\n",
    "\n",
    "The code is designed to provide valuable insights into the sample sales data, demonstrating how Numpy can be used for data manipulation and analysis tasks.\n"
   ]
  },
  {
   "cell_type": "code",
   "execution_count": 58,
   "id": "dacd4cac",
   "metadata": {},
   "outputs": [
    {
     "name": "stdout",
     "output_type": "stream",
     "text": [
      "Sample Sales Data:\n",
      "[['2023-01-01' 101 1 5 250.0]\n",
      " ['2023-01-02' 102 2 3 180.0]\n",
      " ['2023-01-02' 103 1 2 100.0]\n",
      " ['2023-01-03' 104 3 4 320.0]\n",
      " ['2023-01-03' 101 2 2 120.0]\n",
      " ['2023-01-04' 102 1 3 150.0]]\n",
      "\n",
      "Calculating Total Revenue:\n",
      "Total Revenue: 1120.0\n",
      "\n",
      "Finding the Best-Selling Product:\n",
      "Product with Highest Quantity Sold (Index): 0\n",
      "Product ID of the Best-Selling Product: 1\n",
      "\n",
      "Identifying the Highest Sales Day:\n",
      "Index of the Day with Highest Total Revenue: 3\n",
      "Date of the Highest Sales Day: 2023-01-03\n"
     ]
    }
   ],
   "source": [
    "import numpy as np\n",
    "\n",
    "# Generate sample sales data (Date, Customer ID, Product ID, Quantity, Total Revenue)\n",
    "sample_data = np.array([\n",
    "    [\"2023-01-01\", 101, 1, 5, 250.0],\n",
    "    [\"2023-01-02\", 102, 2, 3, 180.0],\n",
    "    [\"2023-01-02\", 103, 1, 2, 100.0],\n",
    "    [\"2023-01-03\", 104, 3, 4, 320.0],\n",
    "    [\"2023-01-03\", 101, 2, 2, 120.0],\n",
    "    [\"2023-01-04\", 102, 1, 3, 150.0]\n",
    "], dtype=object)  # Use 'dtype=object' to allow mixed data types\n",
    "\n",
    "# Calculate total revenue (sum of the 'Total Revenue' column)\n",
    "total_revenue = np.sum(sample_data[:, 4].astype(float))  # Convert to float for numerical operations\n",
    "\n",
    "# Find the best-selling product (product with the highest quantity sold)\n",
    "best_selling_product_index = np.argmax(sample_data[:, 3].astype(int))  # Convert to int for numerical comparison\n",
    "best_selling_product_id = sample_data[best_selling_product_index, 2]\n",
    "\n",
    "# Identify the highest sales day (date with the maximum total revenue)\n",
    "highest_sales_day_index = np.argmax(sample_data[:, 4].astype(float))  # Convert to float for numerical comparison\n",
    "highest_sales_day = sample_data[highest_sales_day_index, 0]\n",
    "\n",
    "# Print the results\n",
    "print(\"Sample Sales Data:\")\n",
    "print(sample_data)\n",
    "\n",
    "print(\"\\nCalculating Total Revenue:\")\n",
    "print(\"Total Revenue:\", total_revenue)\n",
    "\n",
    "print(\"\\nFinding the Best-Selling Product:\")\n",
    "print(\"Product with Highest Quantity Sold (Index):\", best_selling_product_index)\n",
    "print(\"Product ID of the Best-Selling Product:\", best_selling_product_id)\n",
    "\n",
    "print(\"\\nIdentifying the Highest Sales Day:\")\n",
    "print(\"Index of the Day with Highest Total Revenue:\", highest_sales_day_index)\n",
    "print(\"Date of the Highest Sales Day:\", highest_sales_day)\n"
   ]
  },
  {
   "cell_type": "code",
   "execution_count": null,
   "id": "fee5cbf8",
   "metadata": {},
   "outputs": [],
   "source": []
  }
 ],
 "metadata": {
  "kernelspec": {
   "display_name": "Python 3 (ipykernel)",
   "language": "python",
   "name": "python3"
  },
  "language_info": {
   "codemirror_mode": {
    "name": "ipython",
    "version": 3
   },
   "file_extension": ".py",
   "mimetype": "text/x-python",
   "name": "python",
   "nbconvert_exporter": "python",
   "pygments_lexer": "ipython3",
   "version": "3.10.9"
  }
 },
 "nbformat": 4,
 "nbformat_minor": 5
}
